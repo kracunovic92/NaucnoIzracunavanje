{
 "cells": [
  {
   "cell_type": "code",
   "execution_count": 6,
   "metadata": {},
   "outputs": [],
   "source": [
    "import numpy as np\n",
    "import pandas as pd\n",
    "from sklearn.preprocessing import LabelEncoder, StandardScaler\n",
    "\n",
    "from sklearn.preprocessing import OneHotEncoder\n",
    "from sklearn.preprocessing import StandardScaler\n",
    "from sklearn.isotonic import IsotonicRegression\n",
    "from princals import PRINCALS\n",
    "from principals import PRINCIPALS\n"
   ]
  },
  {
   "cell_type": "code",
   "execution_count": 2,
   "metadata": {},
   "outputs": [],
   "source": [
    "\n",
    "# Data for Guttman-Bell table\n",
    "data = {\n",
    "    'Object': [\n",
    "        'Crowd', \n",
    "        'Modern community, Neighborhood', \n",
    "        'Public', \n",
    "        'Primary Group', \n",
    "        'Mob', \n",
    "        'Secondary Group', \n",
    "        'Audience'\n",
    "    ],\n",
    "    'Intensity of interaction': [1, 2, 1, 4, 4, 3, 2],\n",
    "    'Frequency of interaction': [1, 3, 2, 4, 1, 3, 1],\n",
    "    'Feeling of belong': [1, 2, 2, 4, 4, 3, 2],\n",
    "    'Physical proximity': [2, 2, 1, 2, 2, 1, 2],\n",
    "    'Formality of relationship': [2, 2, 1, 3, 3, 2, 2]\n",
    "}\n",
    "\n",
    "df = pd.DataFrame(data)\n"
   ]
  },
  {
   "cell_type": "code",
   "execution_count": 3,
   "metadata": {},
   "outputs": [
    {
     "data": {
      "text/html": [
       "<div>\n",
       "<style scoped>\n",
       "    .dataframe tbody tr th:only-of-type {\n",
       "        vertical-align: middle;\n",
       "    }\n",
       "\n",
       "    .dataframe tbody tr th {\n",
       "        vertical-align: top;\n",
       "    }\n",
       "\n",
       "    .dataframe thead th {\n",
       "        text-align: right;\n",
       "    }\n",
       "</style>\n",
       "<table border=\"1\" class=\"dataframe\">\n",
       "  <thead>\n",
       "    <tr style=\"text-align: right;\">\n",
       "      <th></th>\n",
       "      <th>Object</th>\n",
       "      <th>Intensity of interaction</th>\n",
       "      <th>Frequency of interaction</th>\n",
       "      <th>Feeling of belong</th>\n",
       "      <th>Physical proximity</th>\n",
       "      <th>Formality of relationship</th>\n",
       "    </tr>\n",
       "  </thead>\n",
       "  <tbody>\n",
       "    <tr>\n",
       "      <th>0</th>\n",
       "      <td>Crowd</td>\n",
       "      <td>1</td>\n",
       "      <td>1</td>\n",
       "      <td>1</td>\n",
       "      <td>2</td>\n",
       "      <td>2</td>\n",
       "    </tr>\n",
       "    <tr>\n",
       "      <th>1</th>\n",
       "      <td>Modern community, Neighborhood</td>\n",
       "      <td>2</td>\n",
       "      <td>3</td>\n",
       "      <td>2</td>\n",
       "      <td>2</td>\n",
       "      <td>2</td>\n",
       "    </tr>\n",
       "    <tr>\n",
       "      <th>2</th>\n",
       "      <td>Public</td>\n",
       "      <td>1</td>\n",
       "      <td>2</td>\n",
       "      <td>2</td>\n",
       "      <td>1</td>\n",
       "      <td>1</td>\n",
       "    </tr>\n",
       "    <tr>\n",
       "      <th>3</th>\n",
       "      <td>Primary Group</td>\n",
       "      <td>4</td>\n",
       "      <td>4</td>\n",
       "      <td>4</td>\n",
       "      <td>2</td>\n",
       "      <td>3</td>\n",
       "    </tr>\n",
       "    <tr>\n",
       "      <th>4</th>\n",
       "      <td>Mob</td>\n",
       "      <td>4</td>\n",
       "      <td>1</td>\n",
       "      <td>4</td>\n",
       "      <td>2</td>\n",
       "      <td>3</td>\n",
       "    </tr>\n",
       "    <tr>\n",
       "      <th>5</th>\n",
       "      <td>Secondary Group</td>\n",
       "      <td>3</td>\n",
       "      <td>3</td>\n",
       "      <td>3</td>\n",
       "      <td>1</td>\n",
       "      <td>2</td>\n",
       "    </tr>\n",
       "    <tr>\n",
       "      <th>6</th>\n",
       "      <td>Audience</td>\n",
       "      <td>2</td>\n",
       "      <td>1</td>\n",
       "      <td>2</td>\n",
       "      <td>2</td>\n",
       "      <td>2</td>\n",
       "    </tr>\n",
       "  </tbody>\n",
       "</table>\n",
       "</div>"
      ],
      "text/plain": [
       "                           Object  Intensity of interaction  \\\n",
       "0                           Crowd                         1   \n",
       "1  Modern community, Neighborhood                         2   \n",
       "2                          Public                         1   \n",
       "3                   Primary Group                         4   \n",
       "4                             Mob                         4   \n",
       "5                 Secondary Group                         3   \n",
       "6                        Audience                         2   \n",
       "\n",
       "   Frequency of interaction  Feeling of belong  Physical proximity  \\\n",
       "0                         1                  1                   2   \n",
       "1                         3                  2                   2   \n",
       "2                         2                  2                   1   \n",
       "3                         4                  4                   2   \n",
       "4                         1                  4                   2   \n",
       "5                         3                  3                   1   \n",
       "6                         1                  2                   2   \n",
       "\n",
       "   Formality of relationship  \n",
       "0                          2  \n",
       "1                          2  \n",
       "2                          1  \n",
       "3                          3  \n",
       "4                          3  \n",
       "5                          2  \n",
       "6                          2  "
      ]
     },
     "execution_count": 3,
     "metadata": {},
     "output_type": "execute_result"
    }
   ],
   "source": [
    "df"
   ]
  },
  {
   "cell_type": "code",
   "execution_count": 4,
   "metadata": {},
   "outputs": [
    {
     "data": {
      "text/plain": [
       "array([[1, 1, 1, 2, 2],\n",
       "       [2, 3, 2, 2, 2],\n",
       "       [1, 2, 2, 1, 1],\n",
       "       [4, 4, 4, 2, 3],\n",
       "       [4, 1, 4, 2, 3],\n",
       "       [3, 3, 3, 1, 2],\n",
       "       [2, 1, 2, 2, 2]])"
      ]
     },
     "execution_count": 4,
     "metadata": {},
     "output_type": "execute_result"
    }
   ],
   "source": [
    "np_array = df.drop(columns='Object').to_numpy()\n",
    "np_array"
   ]
  },
  {
   "cell_type": "code",
   "execution_count": 5,
   "metadata": {},
   "outputs": [
    {
     "name": "stdout",
     "output_type": "stream",
     "text": [
      "Processed Data:\n",
      " (10, 8)\n"
     ]
    }
   ],
   "source": [
    "np.random.seed(0)\n",
    "\n",
    "numerical_data = np.random.rand(10, 3)\n",
    "ordinal_data = np.random.randint(0, 3, size=(10, 2))\n",
    "categories = np.random.choice(['A', 'B', 'C'], size=(10, 3))\n",
    "label_encoders = [LabelEncoder().fit(categories[:, i]) for i in range(categories.shape[1])]\n",
    "nominal_data = np.array([le.transform(categories[:, i]) for i, le in enumerate(label_encoders)]).T\n",
    "\n",
    "X = np.hstack([numerical_data, ordinal_data, nominal_data])\n",
    "\n",
    "var_types = ['numerical'] * 3 + ['ordinal'] * 2 + ['nominal'] * 3\n",
    "def preprocess_data(X, var_types):\n",
    "    processed_data = []\n",
    "    for i, var_type in enumerate(var_types):\n",
    "        if var_type == 'numerical':\n",
    "            scaler = StandardScaler()\n",
    "            processed_data.append(scaler.fit_transform(X[:, i].reshape(-1, 1)))\n",
    "        elif var_type == 'ordinal':\n",
    "            processed_data.append(X[:, i].reshape(-1, 1))\n",
    "        elif var_type == 'nominal':\n",
    "            processed_data.append(X[:, i].reshape(-1, 1))\n",
    "    \n",
    "    return np.hstack(processed_data)\n",
    "\n",
    "X_processed = preprocess_data(X, var_types)\n",
    "print(\"Processed Data:\\n\", X_processed.shape)\n",
    "\n"
   ]
  },
  {
   "cell_type": "code",
   "execution_count": 7,
   "metadata": {},
   "outputs": [
    {
     "name": "stdout",
     "output_type": "stream",
     "text": [
      "Loss: 12.553556227360934\n",
      "Loss: 3.426185544567339\n",
      "Loss: 2.303239520727478\n",
      "Loss: 1.5525945735599074\n",
      "Loss: 1.0470113222608743\n",
      "Loss: 0.705377518604615\n",
      "Loss: 0.47457390943098793\n",
      "Loss: 0.3189048085862966\n",
      "Loss: 0.21410643382365874\n",
      "Loss: 0.1436624961766546\n",
      "Loss: 0.09636211432963349\n",
      "Loss: 0.06462349120153281\n",
      "Loss: 0.043335246132256665\n",
      "Loss: 0.02905932355238018\n",
      "Loss: 0.019486651648547435\n",
      "Loss: 0.013067809225267384\n",
      "Loss: 0.008763630309519948\n",
      "Loss: 0.005877335168067126\n",
      "Loss: 0.003941761358833474\n",
      "Loss: 0.002643696386847209\n",
      "Loss: 0.0017731363410848065\n",
      "Loss: 0.0011892690315460032\n",
      "Loss: 0.0007976711960567534\n",
      "Loss: 0.0005350227005210491\n",
      "Loss: 0.00035885908671219304\n",
      "Loss: 0.00024070121974386512\n",
      "Loss: 0.00016144871513246785\n",
      "Loss: 0.0001082909985261166\n",
      "Loss: 7.263588135854845e-05\n",
      "Loss: 4.8720402442576505e-05\n",
      "Loss: 3.267917738767775e-05\n",
      "Loss: 2.191955834529588e-05\n",
      "Loss: 1.4702554607892927e-05\n",
      "Loss: 9.861751052627641e-06\n",
      "Loss: 6.614780511097424e-06\n",
      "Loss: 4.4368726557852125e-06\n",
      "Loss: 2.976038731248704e-06\n",
      "Loss: 1.9961825662328817e-06\n",
      "Converged\n"
     ]
    }
   ],
   "source": [
    "model = PRINCIPALS(X, n_components=2, var_types=var_types)\n",
    "Z, A = model.fit(max_iter=100, tol=1e-6)"
   ]
  },
  {
   "cell_type": "code",
   "execution_count": 8,
   "metadata": {},
   "outputs": [
    {
     "data": {
      "text/plain": [
       "array([[-0.57699981,  0.04454931],\n",
       "       [ 0.13902396, -0.60170211],\n",
       "       [ 0.43379071,  0.08471785],\n",
       "       [ 0.28642143, -0.2585467 ],\n",
       "       [-0.29053149, -0.21417742],\n",
       "       [ 0.43373909,  0.08491723],\n",
       "       [ 0.00410071,  0.47275854],\n",
       "       [-0.2906067 , -0.21388877],\n",
       "       [ 0.00426323,  0.47213616],\n",
       "       [-0.14320113,  0.12923592]])"
      ]
     },
     "execution_count": 8,
     "metadata": {},
     "output_type": "execute_result"
    }
   ],
   "source": [
    "Z"
   ]
  },
  {
   "cell_type": "code",
   "execution_count": 9,
   "metadata": {},
   "outputs": [
    {
     "data": {
      "text/plain": [
       "array([[-3.12422673, -3.01235796,  1.34554353, -2.9057607 , -2.11868309,\n",
       "         1.73868088, -1.0056531 , -2.29888899],\n",
       "       [ 0.48908828, -0.96213279,  2.86173243,  1.24761919, -2.34759048,\n",
       "        -2.641399  , -2.99810969,  2.17143024]])"
      ]
     },
     "execution_count": 9,
     "metadata": {},
     "output_type": "execute_result"
    }
   ],
   "source": [
    "A"
   ]
  },
  {
   "cell_type": "code",
   "execution_count": 10,
   "metadata": {},
   "outputs": [
    {
     "name": "stdout",
     "output_type": "stream",
     "text": [
      "Loss: 1.4985885393252638\n",
      "Loss: 0.7450982153243587\n",
      "Loss: 0.5839123591398883\n",
      "Loss: 0.47582202111980215\n",
      "Loss: 0.4041104257800246\n",
      "Loss: 0.3574472990400924\n",
      "Loss: 0.3274616585568943\n",
      "Loss: 0.30834369058698613\n",
      "Loss: 0.29621349972726047\n",
      "Loss: 0.2885394446555259\n",
      "Loss: 0.2836927916986647\n",
      "Loss: 0.28063468862377877\n",
      "Loss: 0.27870598612583103\n",
      "Loss: 0.27748976438986794\n",
      "Loss: 0.27672279736664623\n",
      "Loss: 0.2762390620022369\n",
      "Loss: 0.27593389518825656\n",
      "Loss: 0.2757413273538713\n",
      "Loss: 0.2756197765139688\n",
      "Loss: 0.2755430287415695\n",
      "Loss: 0.27549455462981876\n",
      "Loss: 0.2754639285879109\n",
      "Loss: 0.27544457291796925\n",
      "Loss: 0.2754323363270378\n",
      "Loss: 0.2754245980258537\n",
      "Loss: 0.27541970292674994\n",
      "Loss: 0.2754166054680432\n",
      "Loss: 0.2754146449307591\n",
      "Loss: 0.2754134036571834\n",
      "Loss: 0.2754126175532564\n",
      "Converged\n"
     ]
    }
   ],
   "source": [
    "guttman_data = np_array\n",
    "var_types = ['ordinal', 'ordinal', 'ordinal', 'nominal', 'nominal']\n",
    "\n",
    "guttman_model =  PRINCIPALS(X= guttman_data, n_components=2, var_types=var_types)\n",
    "Z_guttman, W_guttman = guttman_model.fit(max_iter=100,tol=1e-6)"
   ]
  },
  {
   "cell_type": "code",
   "execution_count": 11,
   "metadata": {},
   "outputs": [
    {
     "data": {
      "text/plain": [
       "array([[-0.49499292,  0.20587676],\n",
       "       [-0.17952866, -0.05604663],\n",
       "       [-0.36849771, -0.21832845],\n",
       "       [ 0.4821548 , -0.31257576],\n",
       "       [ 0.57393408,  0.48829091],\n",
       "       [ 0.10527288, -0.58508131],\n",
       "       [-0.11834248,  0.47786449]])"
      ]
     },
     "execution_count": 11,
     "metadata": {},
     "output_type": "execute_result"
    }
   ],
   "source": [
    "Z_guttman"
   ]
  },
  {
   "cell_type": "code",
   "execution_count": 12,
   "metadata": {},
   "outputs": [
    {
     "data": {
      "text/plain": [
       "array([[ 2.61533307,  1.56822094,  2.58381772,  1.00040465,  2.44666584],\n",
       "       [-0.1877705 , -2.1304071 , -0.41868508,  2.44932446,  1.00688935]])"
      ]
     },
     "execution_count": 12,
     "metadata": {},
     "output_type": "execute_result"
    }
   ],
   "source": [
    "W_guttman"
   ]
  }
 ],
 "metadata": {
  "kernelspec": {
   "display_name": "dinosaur",
   "language": "python",
   "name": "python3"
  },
  "language_info": {
   "codemirror_mode": {
    "name": "ipython",
    "version": 3
   },
   "file_extension": ".py",
   "mimetype": "text/x-python",
   "name": "python",
   "nbconvert_exporter": "python",
   "pygments_lexer": "ipython3",
   "version": "3.11.7"
  }
 },
 "nbformat": 4,
 "nbformat_minor": 2
}
